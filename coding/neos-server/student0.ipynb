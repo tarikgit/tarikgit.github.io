{
 "cells": [
  {
   "cell_type": "code",
   "execution_count": null,
   "id": "8e94a575",
   "metadata": {},
   "outputs": [
    {
     "name": "stderr",
     "output_type": "stream",
     "text": [
      "┌ Info: Precompiling Stan [682df890-35be-576f-97d0-3d8c8b33a550]\n",
      "└ @ Base loading.jl:1278\n",
      "┌ Warning: Environment variable CMDSTAN_HOME not set. Use set_cmdstan_home!.\n",
      "└ @ StanBase ~/.julia/packages/StanBase/HgT2v/src/StanBase.jl:73\n",
      "┌ Warning: Environment variable CMDSTAN_HOME not set. Use set_cmdstan_home!.\n",
      "└ @ StanBase ~/.julia/packages/StanBase/HgT2v/src/StanBase.jl:73\n",
      "┌ Warning: Environment variable CMDSTAN_HOME not set. Use set_cmdstan_home!.\n",
      "└ @ StanBase ~/.julia/packages/StanBase/HgT2v/src/StanBase.jl:73\n",
      "┌ Warning: Environment variable CMDSTAN_HOME not set. Use set_cmdstan_home!.\n",
      "└ @ StanBase ~/.julia/packages/StanBase/HgT2v/src/StanBase.jl:73\n",
      "┌ Warning: Environment variable CMDSTAN_HOME not set. Use set_cmdstan_home!.\n",
      "└ @ StanBase ~/.julia/packages/StanBase/HgT2v/src/StanBase.jl:73\n"
     ]
    }
   ],
   "source": [
    "using Stan\n",
    "\n"
   ]
  },
  {
   "cell_type": "code",
   "execution_count": null,
   "id": "4d548737",
   "metadata": {},
   "outputs": [],
   "source": [
    "model = \"\n",
    "data { \n",
    "  int<lower=0> N; \n",
    "  int<lower=0,upper=1> y[N];\n",
    "} \n",
    "parameters {\n",
    "  real<lower=0,upper=1> theta;\n",
    "} \n",
    "model {\n",
    "  theta ~ beta(1,1);\n",
    "    y ~ bernoulli(theta);\n",
    "}\n",
    "\";"
   ]
  },
  {
   "cell_type": "code",
   "execution_count": null,
   "id": "f3c230ce",
   "metadata": {},
   "outputs": [],
   "source": [
    "sm = SampleModel(\"bernoulli\", model);"
   ]
  },
  {
   "cell_type": "code",
   "execution_count": null,
   "id": "a21f971e",
   "metadata": {},
   "outputs": [],
   "source": [
    "data = Dict(\"N\" => 10, \"y\" => [0, 1, 0, 1, 0, 0, 0, 0, 0, 1]);"
   ]
  },
  {
   "cell_type": "code",
   "execution_count": null,
   "id": "71561e13",
   "metadata": {},
   "outputs": [],
   "source": [
    "rc = stan_sample(sm; data);\n",
    "\n",
    "if success(rc)\n",
    "  chns = read_samples(sm);\n",
    "  chns |> display\n",
    "end"
   ]
  },
  {
   "cell_type": "code",
   "execution_count": null,
   "id": "ac5f99ad",
   "metadata": {},
   "outputs": [],
   "source": []
  }
 ],
 "metadata": {
  "kernelspec": {
   "display_name": "Julia 1.5.3",
   "language": "julia",
   "name": "julia-1.5"
  },
  "language_info": {
   "file_extension": ".jl",
   "mimetype": "application/julia",
   "name": "julia",
   "version": "1.5.3"
  }
 },
 "nbformat": 4,
 "nbformat_minor": 5
}
