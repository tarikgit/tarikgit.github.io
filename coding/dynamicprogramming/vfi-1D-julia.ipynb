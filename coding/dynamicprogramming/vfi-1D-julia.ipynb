{
 "cells": [
  {
   "cell_type": "code",
   "execution_count": 175,
   "metadata": {},
   "outputs": [],
   "source": [
    "using Optim"
   ]
  },
  {
   "cell_type": "code",
   "execution_count": 176,
   "metadata": {},
   "outputs": [
    {
     "data": {
      "text/plain": [
       "interpolate1D (generic function with 1 method)"
      ]
     },
     "execution_count": 176,
     "metadata": {},
     "output_type": "execute_result"
    }
   ],
   "source": [
    "function interpolate1D(vX, vY, x)\n",
    "    imin = sum(vX.<x);\n",
    "    imax = sum(vX.<x)+1;\n",
    "    y = vY[imin]+( x-vX[imin] )/( vX[imax]-vX[imin] )*(vY[imax]-vY[imin]);\n",
    "    return y\n",
    "end"
   ]
  },
  {
   "cell_type": "code",
   "execution_count": 177,
   "metadata": {},
   "outputs": [
    {
     "data": {
      "text/plain": [
       "valfun (generic function with 1 method)"
      ]
     },
     "execution_count": 177,
     "metadata": {},
     "output_type": "execute_result"
    }
   ],
   "source": [
    "# Value function\n",
    "function valfun(v0, pBeta, pDelta, pAlpha, vK, k0, s, k)\n",
    "\n",
    "    # This program gets the value function for a neoclassical growth model with\n",
    "    # no uncertainty and CRRA utility\n",
    "    \n",
    "    g = interpolate1D(vK,v0,k); # smooths out previous value function\n",
    "    \n",
    "    c = k0^pAlpha-k + (1-pDelta)*k0; # consumption\n",
    "    if c <= 0\n",
    "        val =-888888888888888888-800*abs(c); # keeps it from going negative\n",
    "    else\n",
    "        val=(1/(1-s))*(c^(1-s)-1) + pBeta*g;\n",
    "    end\n",
    "    val =-val; # make it negative since we're maximizing and code is to minimize.\n",
    "    \n",
    "    return val\n",
    "                \n",
    "end"
   ]
  },
  {
   "cell_type": "code",
   "execution_count": 202,
   "metadata": {},
   "outputs": [],
   "source": [
    "# Deterministic Growth model\n",
    "# Original code by Eric Sims\n",
    "# Tarik OCAKTAN - Luxembourg - November 2020\n",
    "\n",
    "# State space dimension = 1\n",
    "\n",
    "# Notation:\n",
    "#  pName : structural parameters\n",
    "#  iName : total number of variables related to the algorithm\n",
    "#  idxName : indexation used in loops, i.e. idxName = 1,...,iName\n",
    "#  dName : integer of a specific value of a variable, i.e. dNamess=steady state\n",
    "#          of\n",
    "#               variable 'Name'\n",
    "#  vName : vector containing values of variable 'Name'\n",
    "#  mName : matrix containing values of a variable 'Name'\n",
    "\n",
    "\n",
    "\n",
    "# Structural parameters\n",
    "pAlpha  =  .33;\n",
    "pBeta   =  .95;\n",
    "pDelta  = 0.1;\n",
    "s       = 2;\n",
    "\n",
    "# Algorithm parameters\n",
    " iIter = 1000; # maximum number of iterations\n",
    " iGridPoints = 4;\n",
    " iToler\t= 0.01;  # convergence criterion\n",
    "\n",
    "# Steady state value\n",
    " dKss = (pAlpha/(1/pBeta-(1-pDelta)))^(1/(1-pAlpha));\n",
    " dCss = dKss^(pAlpha)-pDelta*dKss;\n",
    " dIss = pDelta*dKss;\n",
    " dYss = dKss^pAlpha;\n",
    "\n",
    "# Bounds of state space\n",
    " dKmin = dKss * 0.25;\n",
    " dKmax = dKss * 1.75;\n",
    "\n"
   ]
  },
  {
   "cell_type": "code",
   "execution_count": 203,
   "metadata": {},
   "outputs": [],
   "source": [
    "# Construct a grid\n",
    " iStep = (dKmax-dKmin) / (iGridPoints-1);\n",
    " vK = collect(dKmin:iStep:dKmax);\n",
    " iGridPoints = size(vK,1); # overwriting iGridPoints in order to take into\n",
    "                           # account additional point\n",
    "\n",
    "# Storage space\n",
    " polfun = zeros(iGridPoints);\n",
    " v0 = zeros(iGridPoints);\n",
    " v1 = collect( zeros(iGridPoints) );\n",
    " k11 = collect( zeros(iGridPoints) );\n",
    "\n",
    " iDif = 10;\n",
    " idxIter = 0;"
   ]
  },
  {
   "cell_type": "code",
   "execution_count": 212,
   "metadata": {},
   "outputs": [],
   "source": [
    "\n",
    "\n",
    "#while iDif>iToler && idxIter<iIter;\n",
    "for idxIter=1:100\n",
    "   for i=1:iGridPoints\n",
    "\n",
    "      k0 = vK[i];\n",
    "      opt = optimize( k -> valfun(v0, pBeta, pDelta, pAlpha, vK, k0, s, k),\n",
    "                           dKmin, dKmax, GoldenSection());  \n",
    "\n",
    "      k1 = Optim.minimizer(opt);  \n",
    "        \n",
    "      v1[i] = -valfun(v0, pBeta, pDelta, pAlpha, vK, k0, s, k1);\n",
    "      k11[i] = k1;           \n",
    "        \n",
    "   end;\n",
    "    \n",
    "   iDif = sqrt( sum( v1-v0 ) );\n",
    "   v0 = v1;\n",
    "  \n",
    " \n",
    "    \n",
    "#   idxIter = idxIter+1;\n",
    "end     \n",
    "    \n",
    "#end\n",
    "\n"
   ]
  },
  {
   "cell_type": "code",
   "execution_count": null,
   "metadata": {},
   "outputs": [],
   "source": []
  }
 ],
 "metadata": {
  "kernelspec": {
   "display_name": "Julia 1.4.0",
   "language": "julia",
   "name": "julia-1.4"
  },
  "language_info": {
   "file_extension": ".jl",
   "mimetype": "application/julia",
   "name": "julia",
   "version": "1.4.0"
  }
 },
 "nbformat": 4,
 "nbformat_minor": 4
}
